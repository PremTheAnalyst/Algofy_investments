{
 "cells": [
  {
   "cell_type": "code",
   "execution_count": 23,
   "id": "8063116d",
   "metadata": {},
   "outputs": [],
   "source": [
    "import numpy as np\n",
    "import pandas as pd"
   ]
  },
  {
   "cell_type": "code",
   "execution_count": 24,
   "id": "ff603c54",
   "metadata": {},
   "outputs": [],
   "source": [
    "#loading the datset in a dataframe named 'pem'\n",
    "df = pd.read_csv('/Users/premswaroop/Desktop/jupyter1/sample_data.csv')"
   ]
  },
  {
   "cell_type": "code",
   "execution_count": 25,
   "id": "859ce83c",
   "metadata": {},
   "outputs": [
    {
     "data": {
      "text/html": [
       "<div>\n",
       "<style scoped>\n",
       "    .dataframe tbody tr th:only-of-type {\n",
       "        vertical-align: middle;\n",
       "    }\n",
       "\n",
       "    .dataframe tbody tr th {\n",
       "        vertical-align: top;\n",
       "    }\n",
       "\n",
       "    .dataframe thead th {\n",
       "        text-align: right;\n",
       "    }\n",
       "</style>\n",
       "<table border=\"1\" class=\"dataframe\">\n",
       "  <thead>\n",
       "    <tr style=\"text-align: right;\">\n",
       "      <th></th>\n",
       "      <th>Unnamed: 0</th>\n",
       "      <th>date</th>\n",
       "      <th>open</th>\n",
       "      <th>high</th>\n",
       "      <th>low</th>\n",
       "      <th>close</th>\n",
       "      <th>volume</th>\n",
       "    </tr>\n",
       "  </thead>\n",
       "  <tbody>\n",
       "    <tr>\n",
       "      <th>0</th>\n",
       "      <td>0</td>\n",
       "      <td>2022-01-03 09:15:00</td>\n",
       "      <td>252.70</td>\n",
       "      <td>254.25</td>\n",
       "      <td>252.35</td>\n",
       "      <td>252.60</td>\n",
       "      <td>319790</td>\n",
       "    </tr>\n",
       "    <tr>\n",
       "      <th>1</th>\n",
       "      <td>1</td>\n",
       "      <td>2022-01-03 09:30:00</td>\n",
       "      <td>252.60</td>\n",
       "      <td>253.65</td>\n",
       "      <td>251.75</td>\n",
       "      <td>252.80</td>\n",
       "      <td>220927</td>\n",
       "    </tr>\n",
       "    <tr>\n",
       "      <th>2</th>\n",
       "      <td>2</td>\n",
       "      <td>2022-01-03 09:45:00</td>\n",
       "      <td>252.95</td>\n",
       "      <td>254.90</td>\n",
       "      <td>252.30</td>\n",
       "      <td>252.85</td>\n",
       "      <td>526445</td>\n",
       "    </tr>\n",
       "    <tr>\n",
       "      <th>3</th>\n",
       "      <td>3</td>\n",
       "      <td>2022-01-03 10:00:00</td>\n",
       "      <td>252.85</td>\n",
       "      <td>253.15</td>\n",
       "      <td>252.40</td>\n",
       "      <td>252.55</td>\n",
       "      <td>280414</td>\n",
       "    </tr>\n",
       "    <tr>\n",
       "      <th>4</th>\n",
       "      <td>4</td>\n",
       "      <td>2022-01-03 10:15:00</td>\n",
       "      <td>252.55</td>\n",
       "      <td>253.10</td>\n",
       "      <td>252.25</td>\n",
       "      <td>252.80</td>\n",
       "      <td>112875</td>\n",
       "    </tr>\n",
       "    <tr>\n",
       "      <th>...</th>\n",
       "      <td>...</td>\n",
       "      <td>...</td>\n",
       "      <td>...</td>\n",
       "      <td>...</td>\n",
       "      <td>...</td>\n",
       "      <td>...</td>\n",
       "      <td>...</td>\n",
       "    </tr>\n",
       "    <tr>\n",
       "      <th>1995</th>\n",
       "      <td>1995</td>\n",
       "      <td>2022-04-29 14:15:00</td>\n",
       "      <td>336.85</td>\n",
       "      <td>337.95</td>\n",
       "      <td>334.35</td>\n",
       "      <td>337.05</td>\n",
       "      <td>687194</td>\n",
       "    </tr>\n",
       "    <tr>\n",
       "      <th>1996</th>\n",
       "      <td>1996</td>\n",
       "      <td>2022-04-29 14:30:00</td>\n",
       "      <td>337.05</td>\n",
       "      <td>338.65</td>\n",
       "      <td>336.80</td>\n",
       "      <td>338.25</td>\n",
       "      <td>215018</td>\n",
       "    </tr>\n",
       "    <tr>\n",
       "      <th>1997</th>\n",
       "      <td>1997</td>\n",
       "      <td>2022-04-29 14:45:00</td>\n",
       "      <td>338.00</td>\n",
       "      <td>338.80</td>\n",
       "      <td>337.10</td>\n",
       "      <td>338.05</td>\n",
       "      <td>155628</td>\n",
       "    </tr>\n",
       "    <tr>\n",
       "      <th>1998</th>\n",
       "      <td>1998</td>\n",
       "      <td>2022-04-29 15:00:00</td>\n",
       "      <td>338.15</td>\n",
       "      <td>338.40</td>\n",
       "      <td>333.50</td>\n",
       "      <td>334.60</td>\n",
       "      <td>521086</td>\n",
       "    </tr>\n",
       "    <tr>\n",
       "      <th>1999</th>\n",
       "      <td>1999</td>\n",
       "      <td>2022-04-29 15:15:00</td>\n",
       "      <td>334.70</td>\n",
       "      <td>334.90</td>\n",
       "      <td>332.70</td>\n",
       "      <td>333.50</td>\n",
       "      <td>457038</td>\n",
       "    </tr>\n",
       "  </tbody>\n",
       "</table>\n",
       "<p>2000 rows × 7 columns</p>\n",
       "</div>"
      ],
      "text/plain": [
       "      Unnamed: 0                 date    open    high     low   close  volume\n",
       "0              0  2022-01-03 09:15:00  252.70  254.25  252.35  252.60  319790\n",
       "1              1  2022-01-03 09:30:00  252.60  253.65  251.75  252.80  220927\n",
       "2              2  2022-01-03 09:45:00  252.95  254.90  252.30  252.85  526445\n",
       "3              3  2022-01-03 10:00:00  252.85  253.15  252.40  252.55  280414\n",
       "4              4  2022-01-03 10:15:00  252.55  253.10  252.25  252.80  112875\n",
       "...          ...                  ...     ...     ...     ...     ...     ...\n",
       "1995        1995  2022-04-29 14:15:00  336.85  337.95  334.35  337.05  687194\n",
       "1996        1996  2022-04-29 14:30:00  337.05  338.65  336.80  338.25  215018\n",
       "1997        1997  2022-04-29 14:45:00  338.00  338.80  337.10  338.05  155628\n",
       "1998        1998  2022-04-29 15:00:00  338.15  338.40  333.50  334.60  521086\n",
       "1999        1999  2022-04-29 15:15:00  334.70  334.90  332.70  333.50  457038\n",
       "\n",
       "[2000 rows x 7 columns]"
      ]
     },
     "execution_count": 25,
     "metadata": {},
     "output_type": "execute_result"
    }
   ],
   "source": [
    "df"
   ]
  },
  {
   "cell_type": "code",
   "execution_count": 26,
   "id": "9827152b",
   "metadata": {},
   "outputs": [],
   "source": [
    "#deleting first column \n",
    "df = df.drop(df.columns[0],axis=1)"
   ]
  },
  {
   "cell_type": "code",
   "execution_count": 28,
   "id": "1c6d9ec9",
   "metadata": {},
   "outputs": [
    {
     "data": {
      "text/html": [
       "<div>\n",
       "<style scoped>\n",
       "    .dataframe tbody tr th:only-of-type {\n",
       "        vertical-align: middle;\n",
       "    }\n",
       "\n",
       "    .dataframe tbody tr th {\n",
       "        vertical-align: top;\n",
       "    }\n",
       "\n",
       "    .dataframe thead th {\n",
       "        text-align: right;\n",
       "    }\n",
       "</style>\n",
       "<table border=\"1\" class=\"dataframe\">\n",
       "  <thead>\n",
       "    <tr style=\"text-align: right;\">\n",
       "      <th></th>\n",
       "      <th>date</th>\n",
       "      <th>open</th>\n",
       "      <th>high</th>\n",
       "      <th>low</th>\n",
       "      <th>close</th>\n",
       "      <th>volume</th>\n",
       "    </tr>\n",
       "  </thead>\n",
       "  <tbody>\n",
       "    <tr>\n",
       "      <th>0</th>\n",
       "      <td>2022-01-03 09:15:00</td>\n",
       "      <td>252.70</td>\n",
       "      <td>254.25</td>\n",
       "      <td>252.35</td>\n",
       "      <td>252.60</td>\n",
       "      <td>319790</td>\n",
       "    </tr>\n",
       "    <tr>\n",
       "      <th>1</th>\n",
       "      <td>2022-01-03 09:30:00</td>\n",
       "      <td>252.60</td>\n",
       "      <td>253.65</td>\n",
       "      <td>251.75</td>\n",
       "      <td>252.80</td>\n",
       "      <td>220927</td>\n",
       "    </tr>\n",
       "    <tr>\n",
       "      <th>2</th>\n",
       "      <td>2022-01-03 09:45:00</td>\n",
       "      <td>252.95</td>\n",
       "      <td>254.90</td>\n",
       "      <td>252.30</td>\n",
       "      <td>252.85</td>\n",
       "      <td>526445</td>\n",
       "    </tr>\n",
       "    <tr>\n",
       "      <th>3</th>\n",
       "      <td>2022-01-03 10:00:00</td>\n",
       "      <td>252.85</td>\n",
       "      <td>253.15</td>\n",
       "      <td>252.40</td>\n",
       "      <td>252.55</td>\n",
       "      <td>280414</td>\n",
       "    </tr>\n",
       "    <tr>\n",
       "      <th>4</th>\n",
       "      <td>2022-01-03 10:15:00</td>\n",
       "      <td>252.55</td>\n",
       "      <td>253.10</td>\n",
       "      <td>252.25</td>\n",
       "      <td>252.80</td>\n",
       "      <td>112875</td>\n",
       "    </tr>\n",
       "    <tr>\n",
       "      <th>...</th>\n",
       "      <td>...</td>\n",
       "      <td>...</td>\n",
       "      <td>...</td>\n",
       "      <td>...</td>\n",
       "      <td>...</td>\n",
       "      <td>...</td>\n",
       "    </tr>\n",
       "    <tr>\n",
       "      <th>1995</th>\n",
       "      <td>2022-04-29 14:15:00</td>\n",
       "      <td>336.85</td>\n",
       "      <td>337.95</td>\n",
       "      <td>334.35</td>\n",
       "      <td>337.05</td>\n",
       "      <td>687194</td>\n",
       "    </tr>\n",
       "    <tr>\n",
       "      <th>1996</th>\n",
       "      <td>2022-04-29 14:30:00</td>\n",
       "      <td>337.05</td>\n",
       "      <td>338.65</td>\n",
       "      <td>336.80</td>\n",
       "      <td>338.25</td>\n",
       "      <td>215018</td>\n",
       "    </tr>\n",
       "    <tr>\n",
       "      <th>1997</th>\n",
       "      <td>2022-04-29 14:45:00</td>\n",
       "      <td>338.00</td>\n",
       "      <td>338.80</td>\n",
       "      <td>337.10</td>\n",
       "      <td>338.05</td>\n",
       "      <td>155628</td>\n",
       "    </tr>\n",
       "    <tr>\n",
       "      <th>1998</th>\n",
       "      <td>2022-04-29 15:00:00</td>\n",
       "      <td>338.15</td>\n",
       "      <td>338.40</td>\n",
       "      <td>333.50</td>\n",
       "      <td>334.60</td>\n",
       "      <td>521086</td>\n",
       "    </tr>\n",
       "    <tr>\n",
       "      <th>1999</th>\n",
       "      <td>2022-04-29 15:15:00</td>\n",
       "      <td>334.70</td>\n",
       "      <td>334.90</td>\n",
       "      <td>332.70</td>\n",
       "      <td>333.50</td>\n",
       "      <td>457038</td>\n",
       "    </tr>\n",
       "  </tbody>\n",
       "</table>\n",
       "<p>2000 rows × 6 columns</p>\n",
       "</div>"
      ],
      "text/plain": [
       "                     date    open    high     low   close  volume\n",
       "0     2022-01-03 09:15:00  252.70  254.25  252.35  252.60  319790\n",
       "1     2022-01-03 09:30:00  252.60  253.65  251.75  252.80  220927\n",
       "2     2022-01-03 09:45:00  252.95  254.90  252.30  252.85  526445\n",
       "3     2022-01-03 10:00:00  252.85  253.15  252.40  252.55  280414\n",
       "4     2022-01-03 10:15:00  252.55  253.10  252.25  252.80  112875\n",
       "...                   ...     ...     ...     ...     ...     ...\n",
       "1995  2022-04-29 14:15:00  336.85  337.95  334.35  337.05  687194\n",
       "1996  2022-04-29 14:30:00  337.05  338.65  336.80  338.25  215018\n",
       "1997  2022-04-29 14:45:00  338.00  338.80  337.10  338.05  155628\n",
       "1998  2022-04-29 15:00:00  338.15  338.40  333.50  334.60  521086\n",
       "1999  2022-04-29 15:15:00  334.70  334.90  332.70  333.50  457038\n",
       "\n",
       "[2000 rows x 6 columns]"
      ]
     },
     "execution_count": 28,
     "metadata": {},
     "output_type": "execute_result"
    }
   ],
   "source": [
    "df"
   ]
  },
  {
   "cell_type": "code",
   "execution_count": 30,
   "id": "5adb0cac",
   "metadata": {},
   "outputs": [
    {
     "data": {
      "text/plain": [
       "'2022-01-03 09:30:00'"
      ]
     },
     "execution_count": 30,
     "metadata": {},
     "output_type": "execute_result"
    }
   ],
   "source": [
    "df.loc[1,'date']"
   ]
  },
  {
   "cell_type": "code",
   "execution_count": 31,
   "id": "21c14e9a",
   "metadata": {},
   "outputs": [
    {
     "ename": "AttributeError",
     "evalue": "'str' object has no attribute 'day_name'",
     "output_type": "error",
     "traceback": [
      "\u001b[0;31m---------------------------------------------------------------------------\u001b[0m",
      "\u001b[0;31mAttributeError\u001b[0m                            Traceback (most recent call last)",
      "\u001b[0;32m/var/folders/f2/54rrf37j31nb8823kz1zs5mh0000gn/T/ipykernel_1309/2614508835.py\u001b[0m in \u001b[0;36m<module>\u001b[0;34m\u001b[0m\n\u001b[0;32m----> 1\u001b[0;31m \u001b[0mdf\u001b[0m\u001b[0;34m.\u001b[0m\u001b[0mloc\u001b[0m\u001b[0;34m[\u001b[0m\u001b[0;36m1\u001b[0m\u001b[0;34m,\u001b[0m\u001b[0;34m'date'\u001b[0m\u001b[0;34m]\u001b[0m\u001b[0;34m.\u001b[0m\u001b[0mday_name\u001b[0m\u001b[0;34m(\u001b[0m\u001b[0;34m)\u001b[0m\u001b[0;34m\u001b[0m\u001b[0;34m\u001b[0m\u001b[0m\n\u001b[0m",
      "\u001b[0;31mAttributeError\u001b[0m: 'str' object has no attribute 'day_name'"
     ]
    }
   ],
   "source": [
    "df.loc[1,'date'].day_name()"
   ]
  },
  {
   "cell_type": "code",
   "execution_count": 32,
   "id": "bdbfabe3",
   "metadata": {},
   "outputs": [],
   "source": [
    "# the above code gave an error because our column \"date\" is in string format\n",
    "# hence we have to convert it to \"date time \" datatype"
   ]
  },
  {
   "cell_type": "code",
   "execution_count": 44,
   "id": "354ef9e5",
   "metadata": {},
   "outputs": [],
   "source": [
    "df['date']=pd.to_datetime(df['date'])"
   ]
  },
  {
   "cell_type": "code",
   "execution_count": 58,
   "id": "3bc78aba",
   "metadata": {},
   "outputs": [
    {
     "data": {
      "text/plain": [
       "'Monday'"
      ]
     },
     "execution_count": 58,
     "metadata": {},
     "output_type": "execute_result"
    }
   ],
   "source": [
    "mp = df.loc[1,'date'].day_name()\n",
    "mp"
   ]
  },
  {
   "cell_type": "code",
   "execution_count": 46,
   "id": "18119425",
   "metadata": {},
   "outputs": [
    {
     "data": {
      "text/html": [
       "<div>\n",
       "<style scoped>\n",
       "    .dataframe tbody tr th:only-of-type {\n",
       "        vertical-align: middle;\n",
       "    }\n",
       "\n",
       "    .dataframe tbody tr th {\n",
       "        vertical-align: top;\n",
       "    }\n",
       "\n",
       "    .dataframe thead th {\n",
       "        text-align: right;\n",
       "    }\n",
       "</style>\n",
       "<table border=\"1\" class=\"dataframe\">\n",
       "  <thead>\n",
       "    <tr style=\"text-align: right;\">\n",
       "      <th></th>\n",
       "      <th>open</th>\n",
       "      <th>high</th>\n",
       "      <th>low</th>\n",
       "      <th>close</th>\n",
       "      <th>volume</th>\n",
       "    </tr>\n",
       "  </thead>\n",
       "  <tbody>\n",
       "    <tr>\n",
       "      <th>count</th>\n",
       "      <td>2000.000000</td>\n",
       "      <td>2000.000000</td>\n",
       "      <td>2000.000000</td>\n",
       "      <td>2000.000000</td>\n",
       "      <td>2.000000e+03</td>\n",
       "    </tr>\n",
       "    <tr>\n",
       "      <th>mean</th>\n",
       "      <td>304.072050</td>\n",
       "      <td>305.112750</td>\n",
       "      <td>303.062375</td>\n",
       "      <td>304.087500</td>\n",
       "      <td>3.995450e+05</td>\n",
       "    </tr>\n",
       "    <tr>\n",
       "      <th>std</th>\n",
       "      <td>23.117987</td>\n",
       "      <td>23.129187</td>\n",
       "      <td>23.076869</td>\n",
       "      <td>23.100806</td>\n",
       "      <td>4.938786e+05</td>\n",
       "    </tr>\n",
       "    <tr>\n",
       "      <th>min</th>\n",
       "      <td>249.850000</td>\n",
       "      <td>250.150000</td>\n",
       "      <td>249.000000</td>\n",
       "      <td>249.800000</td>\n",
       "      <td>2.229300e+04</td>\n",
       "    </tr>\n",
       "    <tr>\n",
       "      <th>25%</th>\n",
       "      <td>293.187500</td>\n",
       "      <td>294.125000</td>\n",
       "      <td>292.112500</td>\n",
       "      <td>293.250000</td>\n",
       "      <td>1.471022e+05</td>\n",
       "    </tr>\n",
       "    <tr>\n",
       "      <th>50%</th>\n",
       "      <td>306.525000</td>\n",
       "      <td>307.975000</td>\n",
       "      <td>305.550000</td>\n",
       "      <td>306.675000</td>\n",
       "      <td>2.484240e+05</td>\n",
       "    </tr>\n",
       "    <tr>\n",
       "      <th>75%</th>\n",
       "      <td>321.700000</td>\n",
       "      <td>322.500000</td>\n",
       "      <td>320.700000</td>\n",
       "      <td>321.650000</td>\n",
       "      <td>4.841755e+05</td>\n",
       "    </tr>\n",
       "    <tr>\n",
       "      <th>max</th>\n",
       "      <td>341.100000</td>\n",
       "      <td>344.600000</td>\n",
       "      <td>340.300000</td>\n",
       "      <td>341.050000</td>\n",
       "      <td>8.346762e+06</td>\n",
       "    </tr>\n",
       "  </tbody>\n",
       "</table>\n",
       "</div>"
      ],
      "text/plain": [
       "              open         high          low        close        volume\n",
       "count  2000.000000  2000.000000  2000.000000  2000.000000  2.000000e+03\n",
       "mean    304.072050   305.112750   303.062375   304.087500  3.995450e+05\n",
       "std      23.117987    23.129187    23.076869    23.100806  4.938786e+05\n",
       "min     249.850000   250.150000   249.000000   249.800000  2.229300e+04\n",
       "25%     293.187500   294.125000   292.112500   293.250000  1.471022e+05\n",
       "50%     306.525000   307.975000   305.550000   306.675000  2.484240e+05\n",
       "75%     321.700000   322.500000   320.700000   321.650000  4.841755e+05\n",
       "max     341.100000   344.600000   340.300000   341.050000  8.346762e+06"
      ]
     },
     "execution_count": 46,
     "metadata": {},
     "output_type": "execute_result"
    }
   ],
   "source": [
    "#here we can see mean ,standard deviation, minimum ,maximum etc. values of all the columns.\n",
    "df.describe()"
   ]
  },
  {
   "cell_type": "code",
   "execution_count": 48,
   "id": "fc64eaa7",
   "metadata": {},
   "outputs": [
    {
     "data": {
      "text/plain": [
       "<AxesSubplot:xlabel='date'>"
      ]
     },
     "execution_count": 48,
     "metadata": {},
     "output_type": "execute_result"
    },
    {
     "data": {
      "image/png": "[encoded data removed]",
      "text/plain": [
       "<Figure size 432x288 with 1 Axes>"
      ]
     },
     "metadata": {
      "needs_background": "light"
     },
     "output_type": "display_data"
    }
   ],
   "source": [
    "#plotting date vs. volume chart\n",
    "df.plot(x=\"date\", y=\"volume\")"
   ]
  },
  {
   "cell_type": "code",
   "execution_count": 50,
   "id": "267cf7ee",
   "metadata": {},
   "outputs": [],
   "source": [
    "column=df['volume']\n",
    "max_value = column.max()"
   ]
  },
  {
   "cell_type": "code",
   "execution_count": 51,
   "id": "0a7fec80",
   "metadata": {},
   "outputs": [
    {
     "name": "stdout",
     "output_type": "stream",
     "text": [
      "8346762\n"
     ]
    }
   ],
   "source": [
    "# volume is enough in this stock, we can infer that this is a liquid stock.\n",
    "print(max_value)"
   ]
  },
  {
   "cell_type": "code",
   "execution_count": 61,
   "id": "381ca0ba",
   "metadata": {},
   "outputs": [
    {
     "data": {
      "text/plain": [
       "<AxesSubplot:xlabel='date', ylabel='volume'>"
      ]
     },
     "execution_count": 61,
     "metadata": {},
     "output_type": "execute_result"
    },
    {
     "data": {
      "image/png": "[encoded data removed]",
      "text/plain": [
       "<Figure size 432x288 with 2 Axes>"
      ]
     },
     "metadata": {
      "needs_background": "light"
     },
     "output_type": "display_data"
    }
   ],
   "source": [
    "df.plot.scatter(x=\"date\", y=\"volume\", c='high', s=100)"
   ]
  },
  {
   "cell_type": "code",
   "execution_count": null,
   "id": "4bc8bcc5",
   "metadata": {},
   "outputs": [],
   "source": []
  }
 ],
 "metadata": {
  "kernelspec": {
   "display_name": "Python 3 (ipykernel)",
   "language": "python",
   "name": "python3"
  },
  "language_info": {
   "codemirror_mode": {
    "name": "ipython",
    "version": 3
   },
   "file_extension": ".py",
   "mimetype": "text/x-python",
   "name": "python",
   "nbconvert_exporter": "python",
   "pygments_lexer": "ipython3",
   "version": "3.9.7"
  }
 },
 "nbformat": 4,
 "nbformat_minor": 5
}
